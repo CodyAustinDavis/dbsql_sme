{
 "cells": [
  {
   "cell_type": "markdown",
   "metadata": {
    "application/vnd.databricks.v1+cell": {
     "cellMetadata": {},
     "inputWidgets": {},
     "nuid": "534d5572-47b6-46cf-843e-0015acf703f5",
     "showTitle": false,
     "tableResultSettingsMap": {},
     "title": ""
    }
   },
   "source": [
    "Move TPC-H tab-delimited files (.tbl extension) from the /databricks-datasets/ directory into a Unity Catalog Volume. This pipeline will ingest generated incremental files in addition to the one-time historical files, so it's easier to write everything to a UC volume instead of reading directly from /databricks-datasets. "
   ]
  },
  {
   "cell_type": "code",
   "execution_count": null,
   "metadata": {
    "application/vnd.databricks.v1+cell": {
     "cellMetadata": {
      "byteLimit": 2048000,
      "rowLimit": 10000
     },
     "inputWidgets": {},
     "nuid": "4707b00c-a58d-4086-a4ac-49bb5c2d5df2",
     "showTitle": false,
     "tableResultSettingsMap": {},
     "title": ""
    }
   },
   "outputs": [],
   "source": [
    "catalog_name = dbutils.widgets.get(\"catalog_name\")\n",
    "schema_name = dbutils.widgets.get(\"schema_name\")\n",
    "\n",
    "spark.sql(f\"CREATE SCHEMA IF NOT EXISTS {catalog_name}.{schema_name}\")\n",
    "spark.sql(f\"CREATE VOLUME IF NOT EXISTS {catalog_name}.{schema_name}.raw\")\n",
    "spark.sql(f\"CREATE VOLUME IF NOT EXISTS {catalog_name}.{schema_name}.config\")\n",
    "\n",
    "folders_to_copy = [(folder.path, folder.name.replace('/','')) for folder in dbutils.fs.ls(\"/databricks-datasets/tpch/data-001/\") if folder.name != 'README.md'] \n",
    "\n",
    "folders_in_dest_name = [file.name.replace('/','') for file in dbutils.fs.ls(f\"/Volumes/{catalog_name}/{schema_name}/raw/\")]\n",
    "\n",
    "for path, name in folders_to_copy:\n",
    "  if name not in folders_in_dest_name:\n",
    "    print(f\"Copying files to /Volumes/{catalog_name}/{schema_name}/raw/{name}/...\")\n",
    "    dbutils.fs.cp(path, f\"/Volumes/{catalog_name}/{schema_name}/raw/{name}/\", recurse=True)\n",
    "  else:\n",
    "    print(f\"/Volumes/{catalog_name}/{schema_name}/raw/{name}/ is already populated, moving on to the next one...\")\n",
    "    pass # if files are already in the path, ignore it, since we don't want to overwrite them or any other files in the directory"
   ]
  }
 ],
 "metadata": {
  "application/vnd.databricks.v1+notebook": {
   "computePreferences": null,
   "dashboards": [],
   "environmentMetadata": {
    "base_environment": "",
    "environment_version": "1"
   },
   "language": "python",
   "notebookMetadata": {
    "mostRecentlyExecutedCommandWithImplicitDF": {
     "commandId": 1017194466710890,
     "dataframes": [
      "_sqldf"
     ]
    },
    "pythonIndentUnit": 2
   },
   "notebookName": "tpch_historical_load",
   "widgets": {
    "catalog_name": {
     "currentValue": "justin_kolpak",
     "nuid": "b0e9e7c9-7a9b-4afa-ad24-05bcdc9a2276",
     "typedWidgetInfo": {
      "autoCreated": false,
      "defaultValue": "justin_kolpak",
      "label": "",
      "name": "catalog_name",
      "options": {
       "validationRegex": null,
       "widgetDisplayType": "Text"
      },
      "parameterDataType": "String"
     },
     "widgetInfo": {
      "defaultValue": "justin_kolpak",
      "label": "",
      "name": "catalog_name",
      "options": {
       "autoCreated": false,
       "validationRegex": null,
       "widgetType": "text"
      },
      "widgetType": "text"
     }
    },
    "schema_name": {
     "currentValue": "blog",
     "nuid": "ac2b4bd1-1998-4ece-8482-2eff71fe1860",
     "typedWidgetInfo": {
      "autoCreated": false,
      "defaultValue": "",
      "label": "",
      "name": "schema_name",
      "options": {
       "validationRegex": null,
       "widgetDisplayType": "Text"
      },
      "parameterDataType": "String"
     },
     "widgetInfo": {
      "defaultValue": "",
      "label": "",
      "name": "schema_name",
      "options": {
       "autoCreated": false,
       "validationRegex": null,
       "widgetType": "text"
      },
      "widgetType": "text"
     }
    }
   }
  },
  "language_info": {
   "name": "python"
  }
 },
 "nbformat": 4,
 "nbformat_minor": 0
}
